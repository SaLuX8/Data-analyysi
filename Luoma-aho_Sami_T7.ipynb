{
 "cells": [
  {
   "cell_type": "markdown",
   "metadata": {
    "collapsed": true
   },
   "source": [
    "## Datan analysointi K2020_2 - Tehtävät kerta 7\n",
    "\n",
    "Palauta Optiman palautuslaatikkoon viimeistään su 12.4. Kirjoita palautuslaatikon kommenttikenttään, mitkä tehtävät olet tehnyt kokonaan/osittain.\n",
    "\n",
    "Opiskelijan nimi: Sami Luoma-aho"
   ]
  },
  {
   "cell_type": "markdown",
   "metadata": {},
   "source": [
    "# 1. Asunnon hinta\n",
    "Tiedostossa https://student.labranet.jamk.fi/~varpe/datananal2k2020/kerta7/teht1.txt on \n",
    "(kuvitteellisia) asuntojen myyntihintoja ja niiden tietoja (pinta-ala, makuuhuoneiden \n",
    "lukumäärä ja saunan olemassaolo).\n",
    "\n",
    "Tee **lineaarien regressiomalli**, jossa selittävinä muuttujina on pinta-ala, makuuhuoneiden \n",
    "lukumäärä ja saunan olemassaolo ja selitettävänä muuttujana myyntihinta. \n",
    "\n",
    "(Joudut muuttamaan sauna-kentän numeeriseksi)\n",
    "\n",
    "Laske mallille selityskerroin.\n",
    "\n",
    "Kokeile sitten mitä saat selityskertoimiksi, jos käytät selittävinä muuttuujina vain \n",
    "kahta kolmesta mahdollisesta.\n",
    "\n",
    "Piirrä parhaasta mallista kaavio ennustetuista ja havaituista arvoista.\n",
    "\n",
    "Tässä ei jaeta dataa opetus- ja testidataan.\n"
   ]
  },
  {
   "cell_type": "code",
   "execution_count": 1,
   "metadata": {
    "pycharm": {
     "is_executing": false,
     "name": "#%%\n"
    }
   },
   "outputs": [
    {
     "name": "stdout",
     "output_type": "stream",
     "text": [
      "Selityskerroin (ala, mh, sauna): 0.7442335552970591\n",
      "Selityskerroin (ala, mh): 0.7335822686603743\n",
      "Selityskerroin (sauna, mh): 0.25426882030277387\n",
      "Selityskerroin (ala, sauna): 0.742057921659329\n"
     ]
    }
   ],
   "source": [
    "import pandas as pd\n",
    "from sklearn.linear_model import LinearRegression\n",
    "from sklearn.preprocessing import  LabelEncoder\n",
    "import matplotlib.pyplot as plt\n",
    "import numpy as np\n",
    "df = pd.read_csv('https://student.labranet.jamk.fi/~varpe/datananal2k2020/kerta7/teht1.txt', \n",
    "                 sep=','                                          \n",
    "                 )\n",
    "sauna_le=LabelEncoder()\n",
    "df['sauna'] = sauna_le.fit_transform(df['sauna'])\n",
    "#print(dict(zip(sauna_le.classes_,sauna_le.transform(sauna_le.classes_))))\n",
    "\n",
    "#df=df.replace('kyllä',1)\n",
    "#df=df.replace('ei',0)\n",
    "\n",
    "x=df[['ala','makuuhuoneita','sauna']]\n",
    "y=df['hinta']\n",
    "malli=LinearRegression()\n",
    "malli.fit(x,y)\n",
    "print('Selityskerroin (ala, mh, sauna):',malli.score(x,y))\n",
    "\n",
    "x=df[['makuuhuoneita','ala']]\n",
    "malli.fit(x,y)\n",
    "print('Selityskerroin (ala, mh):',malli.score(x,y))\n",
    "\n",
    "x=df[['sauna','makuuhuoneita']]\n",
    "malli.fit(x,y)\n",
    "print('Selityskerroin (sauna, mh):',malli.score(x,y))\n",
    "\n",
    "x=df[['ala','sauna']]\n",
    "malli.fit(x,y)\n",
    "print('Selityskerroin (ala, sauna):',malli.score(x,y))\n"
   ]
  },
  {
   "cell_type": "code",
   "execution_count": 2,
   "metadata": {
    "pycharm": {
     "is_executing": false,
     "name": "#%%\n"
    }
   },
   "outputs": [
    {
     "data": {
      "image/png": "[encoded data removed]",
      "text/plain": [
       "<Figure size 864x432 with 1 Axes>"
      ]
     },
     "metadata": {
      "needs_background": "light"
     },
     "output_type": "display_data"
    }
   ],
   "source": [
    "ennuste = malli.predict(x)\n",
    "fig = plt.gcf()  #antaa nykyisen kuvion (current figure)\n",
    "fig.set_size_inches(12, 6)\n",
    "plt.scatter(y,ennuste,s=80,alpha=0.5)\n",
    "plt.xlabel('havaittu')\n",
    "plt.ylabel('ennustettu')\n",
    "plt.show()"
   ]
  },
  {
   "cell_type": "markdown",
   "metadata": {},
   "source": [
    "## 2. Ostaako\n",
    "\n",
    "Tiedostossa https://student.labranet.jamk.fi/~varpe/datananal2k2020/kerta7/teht2.txt on dataa \n",
    "henkilön tuloista, sukupuolesta ja siviilisäädystä. Lisäksi on tieto onko henkilö ostanut \n",
    "tuotteen vai ei.\n",
    "\n",
    "Tee **päätöspuu** asetuksella max_depth=4, joka yrittää selittää ostamista muiden kenttien avulla. \n",
    "Testaa sitten mallia ja  tulosta `score` ja `confusion_matrix`.\n",
    "\n",
    "Joudut muuttamaan joitain kenttiä numeerisiksi.\n",
    "\n",
    "Tee päätöspuusta vuokaavio (dot-tiedosto), visualisoi se ja päättele manuaalisesti sen avulla \n",
    "miten puu luokittelisi seuraavat tiedot:\n",
    "* tulot 60000, naimisissa, nainen\n",
    "* tulot 30000, ei-naimisissa, mies\n",
    "\n",
    "Kirjoita vastaukseen kommenttina päättelyketjut.\n",
    "\n",
    "Tässä ei jaeta dataa opetus- ja testidataan."
   ]
  },
  {
   "cell_type": "code",
   "execution_count": 3,
   "metadata": {
    "pycharm": {
     "is_executing": false,
     "name": "#%%\n"
    }
   },
   "outputs": [
    {
     "name": "stdout",
     "output_type": "stream",
     "text": [
      "Score:  0.9405646359583952\n",
      "Confusion matrix: \n",
      "[[520  28]\n",
      " [ 12 113]]\n"
     ]
    }
   ],
   "source": [
    "import pandas as pd\n",
    "from sklearn.linear_model import LinearRegression\n",
    "from sklearn.preprocessing import  LabelEncoder\n",
    "from sklearn.tree import DecisionTreeClassifier \n",
    "from sklearn.tree import export_graphviz\n",
    "from sklearn.metrics import confusion_matrix\n",
    "\n",
    "import matplotlib.pyplot as plt\n",
    "import numpy as np\n",
    "df = pd.read_csv('https://student.labranet.jamk.fi/~varpe/datananal2k2020/kerta7/teht2.txt', \n",
    "                 sep=','                                          \n",
    "                 )\n",
    "sex_le=LabelEncoder()\n",
    "df['sukupuoli'] = sex_le.fit_transform(df['sukupuoli'])\n",
    "# print(dict(zip(sex_le.classes_,sex_le.transform(sex_le.classes_))))\n",
    "# print(\"Puuttuvien arvojen lukumäärä per muuttuja:\\n%s\" % df.isnull().sum())\n",
    "x=df[['tulot','sukupuoli','naimisissa']]\n",
    "y=df['ostaa']\n",
    "malli= DecisionTreeClassifier(max_depth=4)\n",
    "malli.fit(x,y)\n",
    "y_pred = malli.predict(x)\n",
    "\n",
    "print(\"Score: \",malli.score(x,y))\n",
    "print(\"Confusion matrix: \")\n",
    "print(confusion_matrix(y, y_pred))\n"
   ]
  },
  {
   "cell_type": "code",
   "execution_count": 4,
   "metadata": {
    "pycharm": {
     "is_executing": false,
     "name": "#%%\n"
    }
   },
   "outputs": [],
   "source": [
    "export_graphviz(decision_tree=malli, out_file=\"puu.dot\",feature_names=x.columns, class_names=True,\n",
    "                filled=True, rounded=True)"
   ]
  },
  {
   "cell_type": "markdown",
   "metadata": {
    "pycharm": {
     "name": "#%% md\n"
    }
   },
   "source": [
    "- Tulot 60000, naimisissa, nainen  \n",
    "Tulot alle 57500 -> False -> Tulot alle 65500 -> True -> naimisissa<0.5 -> \n",
    "False -> Tulot alle 63000 -> True -> Ostaa\n",
    "\n",
    "- Tulot 30000, ei-naimisissa, mies\n",
    "Tulot alle 57500 -> True -> Tulot alle 46500 -> True -> Tulot alle 34500 ->\n",
    "True -> Ei osta\n",
    "\n",
    "https://tinyurl.com/tgz2yyr\n"
   ]
  },
  {
   "cell_type": "markdown",
   "metadata": {},
   "source": [
    "## 3. Jyväskylän kämpät\n",
    "Tiedostossa https://student.labranet.jamk.fi/~varpe/datananal2k2020/kerta7/teht5.txt on \n",
    "tietoja Jyväskylän toteutuneista kerrostaloasuntokaupoista  12 kk ajalta.\n",
    "\n",
    "Jaa data opetusdataan (60%) ja testidataan (40%) ja tee opetusdatalla \n",
    "**lineaarinen regressiomalli** hinnan ennustamiseksi kentistä:\n",
    "* m2\n",
    "* rakennusvuosi\n",
    "* hissi (muunna 0/1)\n",
    "* kunto (muunna numeeriseksi)\n",
    "* tee uusi kenttä onkoKeskustassa, joka saa arvon 1, jos kaupunginosa = Keskusta\n",
    "\n",
    "Tsekkaa onko datassa puuttuvia arvoja ja korvaa ne ko. kentän mediaanilla. \n",
    "\n",
    "Testaa saatua mallia testidatalla.  \n",
    "Piirrä hajontakaavioon ennusteen antamat arvot vs toteutuneet arvot."
   ]
  },
  {
   "cell_type": "code",
   "execution_count": 5,
   "metadata": {
    "pycharm": {
     "is_executing": false,
     "name": "#%%\n"
    }
   },
   "outputs": [
    {
     "name": "stdout",
     "output_type": "stream",
     "text": [
      "(307, 5)\n",
      "(206, 5)\n",
      "Selityskerroin:  0.6378578118569023\n"
     ]
    }
   ],
   "source": [
    "import pandas as pd\n",
    "from sklearn.preprocessing import  LabelEncoder\n",
    "import numpy as np\n",
    "from sklearn.metrics import confusion_matrix\n",
    "from sklearn.linear_model import LinearRegression\n",
    "from sklearn.model_selection import train_test_split \n",
    "from sklearn.preprocessing import StandardScaler\n",
    "\n",
    "\n",
    "df = pd.read_csv('https://student.labranet.jamk.fi/~varpe/datananal2k2020/kerta7/teht5.txt', \n",
    "                 sep=','                                          \n",
    "                 )\n",
    "#print(\"Puuttuvien arvojen lukumäärä per muuttuja:\\n%s\" % df.isnull().sum())\n",
    "\n",
    "df['kunto']=df['kunto'].fillna('eitied')\n",
    "hissi_le, kunto_le = LabelEncoder(), LabelEncoder()\n",
    "df['hissi'] = hissi_le.fit_transform(df['hissi'])\n",
    "df['kunto'] = kunto_le.fit_transform(df['kunto'])\n",
    "# print(df['kunto'].median())\n",
    "# print(dict(zip(kunto_le.classes_,kunto_le.transform(kunto_le.classes_))))\n",
    "df['kunto'].replace(0,df['kunto'].median())\n",
    "\n",
    "df.loc[df['kaupunginosa'] == 'Keskusta', 'onkoKeskustassa'] = 1  \n",
    "df['onkoKeskustassa'] = df['onkoKeskustassa'].fillna(0)\n",
    "df.drop(['huoneisto','kaupunginosa'],axis=1,inplace=True)\n",
    "\n",
    "x=df[['m2','rakennusvuosi','hissi','kunto','onkoKeskustassa']]\n",
    "y=df['hinta']\n",
    "#malli=LinearRegression()\n",
    "#malli.fit(x,y)\n",
    "\n",
    "xTrain, xTest, yTrain, yTest = train_test_split(StandardScaler().fit_transform(x),y,test_size=0.4) \n",
    "print(xTrain.shape)\n",
    "print(xTest.shape)\n",
    "\n",
    "malli=LinearRegression()\n",
    "malli.fit(xTrain,yTrain)\n",
    "print(\"Selityskerroin: \",malli.score(xTest,yTest))\n",
    "\n",
    "y_pred = malli.predict(xTest)\n"
   ]
  },
  {
   "cell_type": "code",
   "execution_count": 6,
   "metadata": {
    "pycharm": {
     "is_executing": false,
     "name": "#%%\n"
    }
   },
   "outputs": [
    {
     "data": {
      "image/png": "[encoded data removed]",
      "text/plain": [
       "<Figure size 864x432 with 1 Axes>"
      ]
     },
     "metadata": {
      "needs_background": "light"
     },
     "output_type": "display_data"
    }
   ],
   "source": [
    "fig = plt.gcf()\n",
    "fig.set_size_inches(12, 6)\n",
    "plt.scatter(yTest,y_pred,s=50,alpha=0.45)\n",
    "plt.xlabel('Toteutuneet')\n",
    "plt.ylabel('Ennustetut')\n",
    "plt.show()\n",
    "\n"
   ]
  },
  {
   "cell_type": "markdown",
   "metadata": {},
   "source": [
    "## 4. Koripallo\n",
    "\n",
    "Tiedostossa https://student.labranet.jamk.fi/~varpe/datananal2k2020/kerta7/nba_logreg.csv on \n",
    "1340 NBA-pelaajan tilastoja heidän tulokaskaudeltaan. \n",
    "\n",
    "[kenttien selitys (eng)](https://student.labranet.jamk.fi/~varpe/datananal2k2020/kerta7/nba.png)\n",
    "\n",
    "Viimeinen sarake kertoo onko pelaaja sittemmin pelannut NBA:ssa yli 5 kautta. Kokeile kuinka \n",
    "hyvin **logistinen regressio** pystyy ennustamaan tämän muiden kentttien (pl. pelaajan nimi) avulla. \n",
    "Korvaa tarvittaessa puuttuvat arvot ko. kentän mediaanilla. Tulosta score ja confusion matrix.\n",
    "\n",
    "Tee sitten sama kokeilu **päätöspuun** avulla. Tulosta tästä myös kuinka paljon eri kentät \n",
    "vaikuttavat mallin mukaan ennustettavaan muuttujaan.\n",
    "\n",
    "Tässä ei tarvitse jakaa aineistoa opetus- ja testidataan."
   ]
  },
  {
   "cell_type": "code",
   "execution_count": 7,
   "metadata": {
    "pycharm": {
     "is_executing": false,
     "name": "#%%\n"
    }
   },
   "outputs": [
    {
     "name": "stdout",
     "output_type": "stream",
     "text": [
      "----Logistisen regression Score----\n",
      "0.7164179104477612\n",
      "----Logistisen regression Confusion Matrix----\n",
      "[[266 243]\n",
      " [137 694]]\n",
      "----Päätöspuun Score----\n",
      "0.9850746268656716\n",
      "----Päätöspuun Confusion Matrix----\n",
      "[[506   3]\n",
      " [ 17 814]]\n",
      "Kenttä:       GP  -   Suht. tärkeys: 20.2 %\n",
      "Kenttä:      MIN  -   Suht. tärkeys: 10.4 %\n",
      "Kenttä:      PTS  -   Suht. tärkeys:  3.2 %\n",
      "Kenttä:      FGM  -   Suht. tärkeys:  5.7 %\n",
      "Kenttä:      FGA  -   Suht. tärkeys:  0.9 %\n",
      "Kenttä:      FG%  -   Suht. tärkeys:  7.5 %\n",
      "Kenttä:  3P Made  -   Suht. tärkeys:  1.3 %\n",
      "Kenttä:      3PA  -   Suht. tärkeys:  2.9 %\n",
      "Kenttä:      3P%  -   Suht. tärkeys:  5.4 %\n",
      "Kenttä:      FTM  -   Suht. tärkeys:  2.2 %\n",
      "Kenttä:      FTA  -   Suht. tärkeys:  2.7 %\n",
      "Kenttä:      FT%  -   Suht. tärkeys:  9.8 %\n",
      "Kenttä:     OREB  -   Suht. tärkeys:  5.7 %\n",
      "Kenttä:     DREB  -   Suht. tärkeys:  3.4 %\n",
      "Kenttä:      REB  -   Suht. tärkeys:  5.9 %\n",
      "Kenttä:      AST  -   Suht. tärkeys:  4.2 %\n",
      "Kenttä:      STL  -   Suht. tärkeys:  3.4 %\n",
      "Kenttä:      BLK  -   Suht. tärkeys:  2.3 %\n",
      "Kenttä:      TOV  -   Suht. tärkeys:  3.0 %\n"
     ]
    },
    {
     "name": "stderr",
     "output_type": "stream",
     "text": [
      "C:\\ProgramData\\Anaconda3\\lib\\site-packages\\sklearn\\linear_model\\logistic.py:432: FutureWarning: Default solver will be changed to 'lbfgs' in 0.22. Specify a solver to silence this warning.\n",
      "  FutureWarning)\n"
     ]
    }
   ],
   "source": [
    "import pandas as pd\n",
    "from sklearn.linear_model import LogisticRegression\n",
    "from sklearn.preprocessing import StandardScaler\n",
    "from sklearn.metrics import confusion_matrix\n",
    "from sklearn.tree import DecisionTreeClassifier \n",
    "\n",
    "import numpy as np\n",
    "df = pd.read_csv('https://student.labranet.jamk.fi/~varpe/datananal2k2020/kerta7/nba_logreg.csv', \n",
    "                 sep=','                                          \n",
    "                 )\n",
    "mediaani=df['3P%'].median()\n",
    "#print(df)\n",
    "#print(\"Puuttuvien arvojen lukumäärä per muuttuja:\\n%s\" % df.isnull().sum())\n",
    "df['3P%']=df['3P%'].fillna(mediaani)\n",
    "df = df.drop('Name',axis=1)\n",
    "x = df.drop('TARGET_5Yrs',axis=1)\n",
    "y=df['TARGET_5Yrs']\n",
    "\n",
    "scaler=StandardScaler()\n",
    "x=scaler.fit_transform(x)\n",
    "malli= LogisticRegression()\n",
    "malli.fit(x,y)\n",
    "\n",
    "print('----Logistisen regression Score----')\n",
    "print(malli.score(x, y)) \n",
    "\n",
    "y_pred = malli.predict(x)\n",
    "print('----Logistisen regression Confusion Matrix----')\n",
    "print(confusion_matrix(y, y_pred))\n",
    "\n",
    "malli2 = DecisionTreeClassifier()\n",
    "malli2.fit(x,y)\n",
    "y_pred2 = malli2.predict(x)\n",
    "\n",
    "print('----Päätöspuun Score----')\n",
    "print(malli2.score(x,y))\n",
    "print('----Päätöspuun Confusion Matrix----')\n",
    "print(confusion_matrix(y, y_pred2))\n",
    "\n",
    "importances = malli2.feature_importances_\n",
    "\n",
    "for i in range(len(importances)):\n",
    "    print(\"Kenttä: %8s  -   Suht. tärkeys: %4.1f %%\" % (df.columns[i], importances[i] * 100))\n",
    "    "
   ]
  },
  {
   "cell_type": "markdown",
   "metadata": {},
   "source": [
    "## 5. Sienet\n",
    "Tiedostossa https://student.labranet.jamk.fi/~varpe/datananal2k2020/kerta7/mushrooms.csv on \n",
    "tietoja sienistä (kenttien selitykset [englanniksi](https://student.labranet.jamk.fi/~varpe/datananal2k2020/kerta7/mushrooms.txt)).\n",
    "\n",
    "Pyri ennustamaan kentän _class_ arvoa muiden kenttien avulla **päätöspuulla**. \n",
    "Kentät ovat luokkamuotoisia, tyyliin \n",
    ">gill-attachment: attached=a,descending=d,free=f,notched=n\n",
    "\n",
    "Tee siis ensin (selittävistä) kentistä dummy-kentät pandasin get_dummies-funktiolla, \n",
    "voit tehdä sen kerralla kaikille sarakkeille.\n",
    "\n",
    "Jaa data opetusdataan ja testidataan 60/40%. \n",
    "\n",
    "Kokeile päätöspuulle max_depth-arvoja 2, 3, 4 ja 5 ja printtaa niiden antamat scoret ja \n",
    "confusion_matrixit."
   ]
  },
  {
   "cell_type": "code",
   "execution_count": 8,
   "metadata": {
    "pycharm": {
     "is_executing": false,
     "name": "#%%\n"
    }
   },
   "outputs": [
    {
     "name": "stdout",
     "output_type": "stream",
     "text": [
      "----- max_depth=2 ------\n",
      "Score 0.9116923076923077\n",
      "[[1623   54]\n",
      " [ 233 1340]]\n",
      "----- max_depth=3 ------\n",
      "Score: 0.9593846153846154\n",
      "[[1585   92]\n",
      " [  40 1533]]\n",
      "----- max_depth=4 ------\n",
      "Score: 0.9784615384615385\n",
      "[[1621   56]\n",
      " [  14 1559]]\n",
      "----- max_depth=5 ------\n",
      "Score: 0.9809230769230769\n",
      "[[1667   10]\n",
      " [  52 1521]]\n"
     ]
    }
   ],
   "source": [
    "import pandas as pd\n",
    "import numpy as np\n",
    "from sklearn.model_selection import train_test_split \n",
    "from sklearn.tree import DecisionTreeClassifier \n",
    "from sklearn.preprocessing import  LabelEncoder\n",
    "df = pd.read_csv('https://student.labranet.jamk.fi/~varpe/datananal2k2020/kerta7/mushrooms.csv', \n",
    "                 sep=','                                          \n",
    "                 )\n",
    "\n",
    "dummies = pd.get_dummies(df, prefix='dummy')\n",
    "# print(\"Puuttuvien arvojen lukumäärä per muuttuja (1):\\n%s\" % df.isnull().sum())\n",
    "df2 = df.apply(LabelEncoder().fit_transform)\n",
    "x= df2.drop('class',axis=1)\n",
    "y=df2['class']\n",
    "xTrain, xTest, yTrain, yTest = train_test_split(x, y, test_size = 0.4, random_state = 225)\n",
    "\n",
    "print(\"----- max_depth=2 ------\")\n",
    "malli = DecisionTreeClassifier(max_depth=2)\n",
    "malli.fit(xTrain,yTrain)\n",
    "print(\"Score\",malli.score(xTest,yTest))\n",
    "y_pred = malli.predict(xTest) # ennusteet kaikille lähtöarvoille\n",
    "print(confusion_matrix(yTest, y_pred))\n",
    "\n",
    "print(\"----- max_depth=3 ------\")\n",
    "malli = DecisionTreeClassifier(max_depth=3)\n",
    "malli.fit(xTrain,yTrain)\n",
    "print(\"Score:\",malli.score(xTest,yTest))\n",
    "y_pred = malli.predict(xTest) # ennusteet kaikille lähtöarvoille\n",
    "print(confusion_matrix(yTest, y_pred))\n",
    "\n",
    "print(\"----- max_depth=4 ------\")\n",
    "malli = DecisionTreeClassifier(max_depth=4)\n",
    "malli.fit(xTrain,yTrain)\n",
    "print(\"Score:\",malli.score(xTest,yTest))\n",
    "y_pred = malli.predict(xTest) # ennusteet kaikille lähtöarvoille\n",
    "print(confusion_matrix(yTest, y_pred))\n",
    "\n",
    "print(\"----- max_depth=5 ------\")\n",
    "malli = DecisionTreeClassifier(max_depth=5)\n",
    "malli.fit(xTrain,yTrain)\n",
    "print(\"Score:\",malli.score(xTest,yTest))\n",
    "y_pred = malli.predict(xTest) # ennusteet kaikille lähtöarvoille\n",
    "print(confusion_matrix(yTest, y_pred))"
   ]
  },
  {
   "cell_type": "code",
   "execution_count": null,
   "metadata": {},
   "outputs": [],
   "source": []
  }
 ],
 "metadata": {
  "kernelspec": {
   "display_name": "Python 3",
   "language": "python",
   "name": "python3"
  },
  "language_info": {
   "codemirror_mode": {
    "name": "ipython",
    "version": 3
   },
   "file_extension": ".py",
   "mimetype": "text/x-python",
   "name": "python",
   "nbconvert_exporter": "python",
   "pygments_lexer": "ipython3",
   "version": "3.7.4"
  },
  "pycharm": {
   "stem_cell": {
    "cell_type": "raw",
    "metadata": {
     "collapsed": false
    },
    "source": []
   }
  }
 },
 "nbformat": 4,
 "nbformat_minor": 2
}
